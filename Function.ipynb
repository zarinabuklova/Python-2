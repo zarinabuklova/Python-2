{
 "cells": [
  {
   "cell_type": "code",
   "execution_count": 5,
   "metadata": {},
   "outputs": [
    {
     "name": "stdout",
     "output_type": "stream",
     "text": [
      "Введите команду: p\n",
      "Введите номер документа: 11-2\n",
      "Владелец документа: Геннадий Покемонов\n",
      "None\n",
      "Введите команду: s\n",
      "Введите номер документа:2\n",
      "Документ не найден в базе\n",
      "None\n",
      "Введите команду: l\n",
      "№: 2207 876234 , тип: passport , владелец: Василий Гупкин , полка хранения: 1\n",
      "№: 11-2 , тип: invoice , владелец: Геннадий Покемонов , полка хранения: 1\n",
      "№: 10006 , тип: insurance , владелец: Аристарх Павлов , полка хранения: 2\n",
      "None\n",
      "Введите команду: as\n",
      "Введите номер полки: 11-2\n",
      "Полка добавлена. Текущий перечень полок 1,2,3,11-2\n",
      "None\n",
      "Введите команду: ds\n",
      "Введите номер полки:10006\n",
      "Такой полки не существует. Текущий перечень полок: 1,2,3,11-2\n",
      "None\n",
      "Введите команду: q\n"
     ]
    }
   ],
   "source": [
    "\n",
    "documents = [\n",
    " {'type': 'passport', 'number': '2207 876234', 'name': 'Василий Гупкин'},\n",
    " {'type': 'invoice', 'number': '11-2', 'name': 'Геннадий Покемонов'},\n",
    " {'type': 'insurance', 'number': '10006', 'name': 'Аристарх Павлов'}\n",
    "]\n",
    "\n",
    "directories = {\n",
    " '1': ['2207 876234', '11-2'],\n",
    " '2': ['10006'],\n",
    " '3': []\n",
    "}\n",
    "\n",
    "def func1(doc):\n",
    "    user_input1 = input('Введите номер документа: ')\n",
    "    for el in doc:\n",
    "        if user_input1 == el['number']:\n",
    "            print('Владелец документа:', el['name'])\n",
    "            return\n",
    "    print('Документ не найден в базе')\n",
    "    return\n",
    "\n",
    "\n",
    "def func2(direct):\n",
    "    user_input2 = input('Введите номер документа:')\n",
    "    for k,v in direct.items():\n",
    "        for el in v:\n",
    "            if user_input2 == el:\n",
    "                print('Документ хранится на полке:', k)\n",
    "                return\n",
    "    print('Документ не найден в базе')\n",
    "    return\n",
    "\n",
    "def func3(doc,direct):\n",
    "    for el in doc:\n",
    "        for k,v in direct.items():\n",
    "            for el2 in v:\n",
    "                if el2 == el['number']:\n",
    "                    print(f'№: {el[\"number\"]} , тип: {el[\"type\"]} , владелец: {el[\"name\"]} , полка хранения: {k}') \n",
    "    return\n",
    "\n",
    "def func4(direct):\n",
    "    user_input4 = input('Введите номер полки: ')\n",
    "    for k, v in direct.items():\n",
    "        if user_input4 == k:\n",
    "            print(f'Такая полка уже существует. Текущий перечень полок {\",\".join(direct.keys())}')\n",
    "            return\n",
    "    direct.setdefault(user_input4, [])\n",
    "    print(f'Полка добавлена. Текущий перечень полок {\",\".join(direct.keys())}')\n",
    "    return\n",
    "\n",
    "def func5(direct):\n",
    "    user_input5 = input('Введите номер полки:')\n",
    "    for k,v in direct.items():\n",
    "        if user_input5 == k and len(v) == 0:\n",
    "            direct.pop(k)\n",
    "            print(f'Полка удалена. Текущий перечень полок {\",\".join(direct.keys())}')\n",
    "            return\n",
    "        elif user_input5 == k and len(v) > 0:\n",
    "            print(f'На полке есть документы, удалите их перед удалением полки.Текущий перечень полок: {\",\".join(direct.keys())}')\n",
    "            return\n",
    "    print(f'Такой полки не существует. Текущий перечень полок: {\",\".join(direct.keys())}')\n",
    "    return\n",
    "\n",
    "\n",
    "def func6(doc, direct):\n",
    "    while True:\n",
    "        user_input6 = input('Введите команду: ')\n",
    "        if user_input6 == 'p':\n",
    "            print(func1(doc))\n",
    "        elif user_input6 == 's':\n",
    "            print(func2(direct))\n",
    "        elif user_input6 == 'l':\n",
    "            print(func3(doc, direct))\n",
    "        elif user_input6 == 'as':\n",
    "            print(func4(direct))\n",
    "        elif user_input6 == 'ds':\n",
    "            print(func5(direct))\n",
    "        elif user_input6 == 'q':\n",
    "            break\n",
    "        \n",
    "\n",
    "\n",
    "func6(documents, directories)"
   ]
  },
  {
   "cell_type": "markdown",
   "metadata": {},
   "source": []
  },
  {
   "cell_type": "code",
   "execution_count": null,
   "metadata": {},
   "outputs": [],
   "source": []
  },
  {
   "cell_type": "markdown",
   "metadata": {},
   "source": []
  },
  {
   "cell_type": "code",
   "execution_count": null,
   "metadata": {},
   "outputs": [],
   "source": []
  },
  {
   "cell_type": "markdown",
   "metadata": {},
   "source": []
  },
  {
   "cell_type": "code",
   "execution_count": null,
   "metadata": {},
   "outputs": [],
   "source": []
  },
  {
   "cell_type": "markdown",
   "metadata": {},
   "source": []
  },
  {
   "cell_type": "code",
   "execution_count": null,
   "metadata": {},
   "outputs": [],
   "source": []
  },
  {
   "cell_type": "code",
   "execution_count": null,
   "metadata": {},
   "outputs": [],
   "source": []
  },
  {
   "cell_type": "code",
   "execution_count": null,
   "metadata": {},
   "outputs": [],
   "source": []
  },
  {
   "cell_type": "code",
   "execution_count": null,
   "metadata": {},
   "outputs": [],
   "source": []
  }
 ],
 "metadata": {
  "kernelspec": {
   "display_name": "Python 3",
   "language": "python",
   "name": "python3"
  }
 },
 "nbformat": 4,
 "nbformat_minor": 4
}
