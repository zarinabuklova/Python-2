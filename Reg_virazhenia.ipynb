{
 "cells": [
  {
   "cell_type": "markdown",
   "metadata": {},
   "source": [
    "Задание 1"
   ]
  },
  {
   "cell_type": "code",
   "execution_count": 88,
   "metadata": {},
   "outputs": [
    {
     "name": "stdout",
     "output_type": "stream",
     "text": [
      "А345СВ15\n"
     ]
    },
    {
     "data": {
      "text/plain": [
       "'Номер А345СВ15 валиден. Регион: 15'"
      ]
     },
     "execution_count": 88,
     "metadata": {},
     "output_type": "execute_result"
    }
   ],
   "source": [
    "import re\n",
    "def proverka():\n",
    "    count = input()\n",
    "    if re.findall(r'[АВЕКМНОРСТУХ]{1}\\d{3}[АВЕКМНОРСТУХ]{2}\\d{2,3}', count):\n",
    "        region = int(re.findall(r'\\d{2,3}$', re.findall(r'[АВЕКМНОРСТУХ]{1}\\d{3}[АВЕКМНОРСТУХ]{2}\\d{2,3}', count)[0])[0])\n",
    "        return f'Номер {count} валиден. Регион: {region}'\n",
    "    return 'Номер не валиден'\n",
    "proverka()"
   ]
  },
  {
   "cell_type": "markdown",
   "metadata": {},
   "source": [
    "Задание 2 "
   ]
  },
  {
   "cell_type": "code",
   "execution_count": 8,
   "metadata": {},
   "outputs": [],
   "source": [
    "some_string = 'Напишите функцию функцию, которая будет будет будет будет удалять все все все все последовательные повторы слов из из из из заданной строки строки при помощи регулярных выражений'"
   ]
  },
  {
   "cell_type": "code",
   "execution_count": 89,
   "metadata": {},
   "outputs": [
    {
     "data": {
      "text/plain": [
       "'Напишите функцию, которая будет удалять все последовательные повторы слов из заданной строки при помощи регулярных выражений'"
      ]
     },
     "execution_count": 89,
     "metadata": {},
     "output_type": "execute_result"
    }
   ],
   "source": [
    "import re\n",
    "\n",
    "def del_dubl(sentence):\n",
    "    return re.sub(r'(\\w+)(\\s\\1)+', r'\\1', some_string)\n",
    "del_dubl(some_string)"
   ]
  },
  {
   "cell_type": "markdown",
   "metadata": {},
   "source": [
    "Задание 3 "
   ]
  },
  {
   "cell_type": "code",
   "execution_count": 92,
   "metadata": {},
   "outputs": [
    {
     "data": {
      "text/plain": [
       "'Ит'"
      ]
     },
     "execution_count": 92,
     "metadata": {},
     "output_type": "execute_result"
    }
   ],
   "source": [
    "some_words = 'Информационные технологии'\n",
    "def akronim(sent):\n",
    "    return ''.join(re.findall(r'\\b\\w', some_words))\n",
    "akronim(some_words)"
   ]
  },
  {
   "cell_type": "markdown",
   "metadata": {},
   "source": [
    "Задание 4"
   ]
  },
  {
   "cell_type": "code",
   "execution_count": 86,
   "metadata": {},
   "outputs": [
    {
     "name": "stdout",
     "output_type": "stream",
     "text": [
      "{'gmail.com': 2, 'test.in': 1, 'ya.ru': 2, 'mail.ru': 1}\n"
     ]
    }
   ],
   "source": [
    "emails = ['test@gmail.com', 'xyz@test.in', 'test@ya.ru', 'xyz@mail.ru', 'xyz@ya.ru', 'xyz@gmail.com']\n",
    "\n",
    "gmail_com = r'\\w+@gmail.com'\n",
    "test_in = r'\\w+@test.in'\n",
    "ya_ru = r'\\w+@ya.ru'\n",
    "mail_ru = r'\\w+@mail.ru'\n",
    "results = {}\n",
    "\n",
    "for el in emails:\n",
    "    if re.findall(gmail_com, el):\n",
    "        if 'gmail.com' not in results:\n",
    "            results.setdefault('gmail.com', 1)\n",
    "        else:\n",
    "            results['gmail.com'] += 1\n",
    "    if re.findall(test_in, el):\n",
    "        if 'test.in' not in results:\n",
    "            results.setdefault('test.in', 1)\n",
    "        else:\n",
    "            results['test.in'] += 1\n",
    "    if re.findall(ya_ru, el):\n",
    "        if 'ya.ru' not in results:\n",
    "            results.setdefault('ya.ru', 1)\n",
    "        else:\n",
    "            results['ya.ru'] += 1\n",
    "    if re.findall(mail_ru, el):\n",
    "        if 'mail.ru' not in results:\n",
    "            results.setdefault('mail.ru', 1) \n",
    "        else:\n",
    "            results['mail.ru'] += 1\n",
    "print(results)"
   ]
  },
  {
   "cell_type": "code",
   "execution_count": null,
   "metadata": {},
   "outputs": [],
   "source": []
  }
 ],
 "metadata": {
  "kernelspec": {
   "display_name": "Python 3",
   "language": "python",
   "name": "python3"
  },
  "language_info": {
   "codemirror_mode": {
    "name": "ipython",
    "version": 3
   },
   "file_extension": ".py",
   "mimetype": "text/x-python",
   "name": "python",
   "nbconvert_exporter": "python",
   "pygments_lexer": "ipython3",
   "version": "3.8.3"
  }
 },
 "nbformat": 4,
 "nbformat_minor": 4
}
